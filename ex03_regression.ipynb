{
 "cells": [
  {
   "cell_type": "code",
   "execution_count": 1,
   "id": "08eedfc2-bda3-400c-b8cd-fb0067062c95",
   "metadata": {},
   "outputs": [],
   "source": [
    "# Exercise 3: Regression"
   ]
  },
  {
   "cell_type": "code",
   "execution_count": 2,
   "id": "3ce62226-d9ff-4937-9cf8-a6a6bd5d5673",
   "metadata": {},
   "outputs": [],
   "source": [
    "from sklearn.metrics import r2_score, mean_squared_error, mean_absolute_error\n",
    "from sklearn.datasets import fetch_california_housing\n",
    "from sklearn.model_selection import train_test_split\n",
    "from sklearn.linear_model import LinearRegression\n",
    "from sklearn.preprocessing import StandardScaler\n",
    "from sklearn.impute import SimpleImputer\n",
    "from sklearn.pipeline import Pipeline"
   ]
  },
  {
   "cell_type": "code",
   "execution_count": 3,
   "id": "3e49d78e-369a-4b1b-90ce-72d6dddfe9ff",
   "metadata": {},
   "outputs": [
    {
     "name": "stdout",
     "output_type": "stream",
     "text": [
      "Train values predicted:\n",
      " [1.54505951 2.21338527 2.2636205  3.3258957  1.51710076 1.63209319\n",
      " 2.9265211  0.78080924 1.21968217 0.72656239]\n",
      "Test values predicted:\n",
      " [ 1.82212706  1.98357668  0.80547979 -0.19259114  1.76072418  3.27855815\n",
      "  2.12056804  1.96099917  2.38239663  1.21005304]\n"
     ]
    }
   ],
   "source": [
    "# data\n",
    "housing = fetch_california_housing()\n",
    "X, y = housing['data'], housing['target']\n",
    "\n",
    "# split data train test\n",
    "X_train, X_test, y_train, y_test = train_test_split(X,\n",
    "                                                    y,\n",
    "                                                    test_size=0.1,\n",
    "                                                    shuffle=True,\n",
    "                                                    random_state=13)\n",
    "\n",
    "# Build pipeline\n",
    "pipeline = [('imputer', SimpleImputer(strategy='median')),\n",
    "            ('scaler', StandardScaler()),\n",
    "            ('lr', LinearRegression())]\n",
    "pipe = Pipeline(pipeline)\n",
    "\n",
    "# fit\n",
    "pipe.fit(X_train, y_train)\n",
    "\n",
    "# Predict on train and test sets\n",
    "y_train_pred = pipe.predict(X_train)\n",
    "y_test_pred = pipe.predict(X_test)\n",
    "\n",
    "print(\"Train values predicted:\\n\", y_train_pred[:10])\n",
    "print(\"Test values predicted:\\n\", y_test_pred[:10])"
   ]
  },
  {
   "cell_type": "code",
   "execution_count": 4,
   "id": "9ffc7247-257a-4ab8-a625-b0c8779769f2",
   "metadata": {},
   "outputs": [
    {
     "name": "stdout",
     "output_type": "stream",
     "text": [
      "Train Set Metrics:\n",
      "  R²:  0.6080\n",
      "  MSE: 0.5211\n",
      "  MAE: 0.5300\n",
      "\n",
      "Test Set Metrics:\n",
      "  R²:  0.5903\n",
      "  MSE: 0.5537\n",
      "  MAE: 0.5454\n"
     ]
    }
   ],
   "source": [
    "# --- Train Set Metrics ---\n",
    "r2_train = r2_score(y_train, y_train_pred)\n",
    "mse_train = mean_squared_error(y_train, y_train_pred)\n",
    "mae_train = mean_absolute_error(y_train, y_train_pred)\n",
    "\n",
    "# --- Test Set Metrics ---\n",
    "r2_test = r2_score(y_test, y_test_pred)\n",
    "mse_test = mean_squared_error(y_test, y_test_pred)\n",
    "mae_test = mean_absolute_error(y_test, y_test_pred)\n",
    "\n",
    "# Display results\n",
    "print(\"Train Set Metrics:\")\n",
    "print(f\"  R²:  {r2_train:.4f}\")\n",
    "print(f\"  MSE: {mse_train:.4f}\")\n",
    "print(f\"  MAE: {mae_train:.4f}\")\n",
    "\n",
    "print(\"\\nTest Set Metrics:\")\n",
    "print(f\"  R²:  {r2_test:.4f}\")\n",
    "print(f\"  MSE: {mse_test:.4f}\")\n",
    "print(f\"  MAE: {mae_test:.4f}\")"
   ]
  },
  {
   "cell_type": "code",
   "execution_count": null,
   "id": "7d660016-880d-4d42-b3c2-3250aead42cf",
   "metadata": {},
   "outputs": [],
   "source": []
  }
 ],
 "metadata": {
  "kernelspec": {
   "display_name": "Python 3 (ipykernel)",
   "language": "python",
   "name": "python3"
  },
  "language_info": {
   "codemirror_mode": {
    "name": "ipython",
    "version": 3
   },
   "file_extension": ".py",
   "mimetype": "text/x-python",
   "name": "python",
   "nbconvert_exporter": "python",
   "pygments_lexer": "ipython3",
   "version": "3.12.11"
  }
 },
 "nbformat": 4,
 "nbformat_minor": 5
}
